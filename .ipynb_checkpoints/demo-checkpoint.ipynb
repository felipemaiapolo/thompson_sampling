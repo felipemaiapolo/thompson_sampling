{
 "cells": [
  {
   "cell_type": "code",
   "execution_count": 138,
   "id": "d86937a9",
   "metadata": {},
   "outputs": [],
   "source": [
    "!pip install git+https://github.com/felipemaiapolo/thompson_sampling.git#egg=thompson_sampling"
   ]
  },
  {
   "cell_type": "code",
   "execution_count": null,
   "id": "7edc99a3",
   "metadata": {},
   "outputs": [],
   "source": [
    "import numpy as np\n",
    "from thompson_sampling import ContextualThompsonSampling"
   ]
  },
  {
   "cell_type": "code",
   "execution_count": 139,
   "id": "9347b0ce",
   "metadata": {},
   "outputs": [],
   "source": [
    "k = 2 #numero de possiveis acoes a serem tomadas (\"arms\")\n",
    "random_state = 42"
   ]
  },
  {
   "cell_type": "code",
   "execution_count": 140,
   "id": "44947ec5",
   "metadata": {},
   "outputs": [],
   "source": [
    "#Comecando com dados iniciais (se houver)\n",
    "initial_data = {'y': np.array([.1,-.2, .03]), 'd': np.array([[0,1],[1,0],[0,1]]), 'x': np.array([[.1,.4,.5],[-.1,.4,-.5],[.2,.1,-.8]])}\n",
    "initial_data['y'], initial_data['d'], initial_data['x']\n",
    "\n",
    "ts = ContextualThompsonSampling(k, initial_data=initial_data)"
   ]
  },
  {
   "cell_type": "code",
   "execution_count": 141,
   "id": "ca8f74af",
   "metadata": {},
   "outputs": [],
   "source": [
    "#Comecando sem dados iniciais\n",
    "ts = ContextualThompsonSampling(k, x_dim = 3)"
   ]
  },
  {
   "cell_type": "code",
   "execution_count": 143,
   "id": "e2f2356d",
   "metadata": {},
   "outputs": [
    {
     "name": "stdout",
     "output_type": "stream",
     "text": [
      "(1, 3)\n",
      "(8,)\n"
     ]
    },
    {
     "data": {
      "text/plain": [
       "{'best_strat': array([[1., 0.]]),\n",
       " 'expect_y': array([-0.4673275 , -1.33602948]),\n",
       " 'beta': array([[[-1.121992  ,  0.32180241,  0.281579  ,  1.01970531]],\n",
       " \n",
       "        [[-0.58616087, -0.52994591, -0.57657652, -0.93248681]]])}"
      ]
     },
     "execution_count": 143,
     "metadata": {},
     "output_type": "execute_result"
    }
   ],
   "source": [
    "#Decidindo proxima estrategia com base no valor de x\n",
    "x = np.array([[.1,.4,.5]])\n",
    "print(x.shape)\n",
    "\n",
    "out = ts.evaluate_strat(x=x, random_state=random_state)\n",
    "out"
   ]
  },
  {
   "cell_type": "code",
   "execution_count": 144,
   "id": "c238d2f7",
   "metadata": {},
   "outputs": [
    {
     "data": {
      "text/plain": [
       "{'y': array([0.1]), 'x': array([[0.1, 0.4, 0.5]]), 'd': array([[1., 0.]])}"
      ]
     },
     "execution_count": 144,
     "metadata": {},
     "output_type": "execute_result"
    }
   ],
   "source": [
    "#Recebendo novos dados\n",
    "new_data = {'y': np.array([.1]), 'x':x, 'd': out['best_strat']}\n",
    "new_data"
   ]
  },
  {
   "cell_type": "code",
   "execution_count": 145,
   "id": "1c2fcd74",
   "metadata": {},
   "outputs": [],
   "source": [
    "#Atualizando regressao Bayesiana\n",
    "ts.update(new_data)"
   ]
  },
  {
   "cell_type": "code",
   "execution_count": 146,
   "id": "f013f682",
   "metadata": {},
   "outputs": [
    {
     "name": "stdout",
     "output_type": "stream",
     "text": [
      "(1, 3)\n",
      "(8,)\n"
     ]
    },
    {
     "data": {
      "text/plain": [
       "{'best_strat': array([[1., 0.]]),\n",
       " 'expect_y': array([0.83997922, 0.31710726]),\n",
       " 'beta': array([[[ 0.69478249, -0.46919431,  0.30834939, -0.2891078 ]],\n",
       " \n",
       "        [[ 0.8108151 ,  0.25588006, -0.892148  ,  0.22389656]]])}"
      ]
     },
     "execution_count": 146,
     "metadata": {},
     "output_type": "execute_result"
    }
   ],
   "source": [
    "#Decidindo proxima estrategia com base no valor de x\n",
    "x = np.array([[-.1,.6,.3]])\n",
    "print(x.shape)\n",
    "\n",
    "out = ts.evaluate_strat(x=x, random_state=random_state)\n",
    "out"
   ]
  }
 ],
 "metadata": {
  "kernelspec": {
   "display_name": "Python 3",
   "language": "python",
   "name": "python3"
  },
  "language_info": {
   "codemirror_mode": {
    "name": "ipython",
    "version": 3
   },
   "file_extension": ".py",
   "mimetype": "text/x-python",
   "name": "python",
   "nbconvert_exporter": "python",
   "pygments_lexer": "ipython3",
   "version": "3.8.8"
  }
 },
 "nbformat": 4,
 "nbformat_minor": 5
}
